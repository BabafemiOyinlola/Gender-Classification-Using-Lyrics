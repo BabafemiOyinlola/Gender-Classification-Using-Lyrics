{
 "cells": [
  {
   "cell_type": "markdown",
   "metadata": {},
   "source": [
    "### The aim of this project is to predict the gender of an artist based on the lyrics of the artist's song"
   ]
  },
  {
   "cell_type": "code",
   "execution_count": 180,
   "metadata": {},
   "outputs": [],
   "source": [
    "import re\n",
    "import os\n",
    "import nltk\n",
    "import ftfy\n",
    "import ast\n",
    "import json\n",
    "import math\n",
    "import numpy as np\n",
    "import pandas as pd\n",
    "from collections import Counter\n",
    "import matplotlib.pyplot as plt\n",
    "from wordcloud import WordCloud\n",
    "from nltk.corpus import stopwords\n",
    "\n",
    "from sklearn.preprocessing import Binarizer\n",
    "from sklearn.naive_bayes import MultinomialNB\n",
    "from sklearn.tree import DecisionTreeClassifier\n",
    "from sklearn.model_selection import GridSearchCV\n",
    "from sklearn.linear_model import LogisticRegression\n",
    "from sklearn.pipeline import Pipeline, FeatureUnion\n",
    "from sklearn.model_selection import train_test_split\n",
    "from sklearn.feature_extraction import DictVectorizer\n",
    "from sklearn.feature_selection import SelectKBest, chi2\n",
    "from sklearn.base import BaseEstimator, TransformerMixin\n",
    "from sklearn.feature_extraction.text import CountVectorizer\n",
    "from sklearn.feature_extraction.text import TfidfTransformer\n",
    "from sklearn.model_selection import cross_validate, StratifiedKFold\n",
    "from sklearn.metrics import accuracy_score, classification_report, confusion_matrix\n",
    "\n",
    "\n",
    "\n",
    "\n",
    "%matplotlib inline\n",
    "\n",
    "pd.options.display.max_rows = 420"
   ]
  },
  {
   "cell_type": "markdown",
   "metadata": {},
   "source": [
    "### Data Collection\n",
    "- BeautifulSoup is used to scrape names of artists from the billboard website\n",
    "- These names are used in the Musixmatch and lyricsgenius APIs to download lyrics\n",
    "- Script used is scraper.py\n",
    "- Seperate files combined in combine.py"
   ]
  },
  {
   "cell_type": "markdown",
   "metadata": {},
   "source": [
    "### Data Preprocessing"
   ]
  },
  {
   "cell_type": "code",
   "execution_count": 326,
   "metadata": {},
   "outputs": [
    {
     "name": "stdout",
     "output_type": "stream",
     "text": [
      "[nltk_data] Downloading package stopwords to\n",
      "[nltk_data]     /Users/oyinlola/nltk_data...\n",
      "[nltk_data]   Package stopwords is already up-to-date!\n"
     ]
    }
   ],
   "source": [
    "common_re = re.compile(r\"[*].+[*]\") #remove ******* This Lyrics is NOT for Commercial use *******\n",
    "punt_re = re.compile(r\"[^a-zA-Z' ]+\") #irrelevant puctuations\n",
    "\n",
    "tokenise_re = re.compile(r\"(\\[[^\\]]+\\]|[-'\\w]+|[^\\s\\w\\[']+)\") #([]|words|other non-space)\n",
    "\n",
    "def preprocess(text):\n",
    "    text = text.lower()\n",
    "    p_text = common_re.sub(\"\", text)\n",
    "    p_text = punt_re.sub(\"\", p_text)\n",
    "    p_text = ftfy.fix_text(p_text)\n",
    "    return p_text.lower()  #return lyrics in the same case\n",
    "\n",
    "def replace_apostrophe(lyrics):\n",
    "    full_text = \"\"\n",
    "    tokens = lyrics.split(\" \")\n",
    "    for text in tokens:\n",
    "        if \"'\" in text:\n",
    "            shortened = text.split(\"'\")\n",
    "            if shortened[1] == \"ll\" or text == \"i'mma\":\n",
    "                text = shortened[0] + \" will\"\n",
    "            elif shortened[1] == \"m\":\n",
    "                text = shortened[0] + \" am\"\n",
    "            elif shortened[1] == \"d\" or text == \"'d\":\n",
    "                text = shortened[0] + \" would\"\n",
    "            elif shortened[1] == \"ve\":\n",
    "                text = shortened[0] + \" have\"\n",
    "            elif shortened[1] == \"s\":\n",
    "                text = shortened[0] + \"s\"\n",
    "            elif shortened[1] == \"re\":\n",
    "                text = shortened[0] + \" are\"   \n",
    "            elif text == \"'cause\" or shortened[1] == \"cause\" or text == \"'cuz\":\n",
    "                text = \"because\"\n",
    "            elif shortened[1] == \"\" or shortened[0][-2:] == \"in\":\n",
    "                text = shortened[0] + \"g\"\n",
    "            elif text == \"y'all\":\n",
    "                text = \"you all\"\n",
    "            elif text == \"'em\" or text == \" 'em\":\n",
    "                text = \"them\"\n",
    "            elif text == \"'lone\":\n",
    "                text = \"alone\"\n",
    "            elif text == \"c'mon\":\n",
    "                text = \"common\"\n",
    "            elif shortened[1] == \"t\" and shortened != \"ain\":\n",
    "                text = shortened[0] + \" not\"\n",
    "        full_text = full_text + \" \" + text\n",
    "    return full_text\n",
    "          \n",
    "     \n",
    "def tokenise(text):\n",
    "    return tokenise_re.findall(text)\n",
    "\n",
    "nltk.download('stopwords')\n",
    "nltk_stopwords = set(stopwords.words('english'))\n",
    "\n",
    "def stopwords_file(file):\n",
    "    with open(file) as f:\n",
    "        items = []\n",
    "        lines = f.readlines()\n",
    "        for line in lines:\n",
    "            items.append(line.strip())\n",
    "    return items\n",
    "\n",
    "stanford_stopwords = stopwords_file(\"stanford_stopwords.txt\")\n",
    "\n",
    "def remove_stopwords(tokens):\n",
    "    nltk_filtered = [word for word in tokens if word not in nltk_stopwords]\n",
    "    return nltk_filtered\n",
    "\n",
    "def frequency_analysis(tokens):\n",
    "    freq = nltk.FreqDist(tokens)\n",
    "    for key,val in freq.most_common(20):\n",
    "        print(key,val,sep=\"\\t\")\n",
    "    freq.plot(20, cumulative=False)"
   ]
  },
  {
   "cell_type": "markdown",
   "metadata": {},
   "source": [
    "### Word Embeddings"
   ]
  },
  {
   "cell_type": "code",
   "execution_count": 327,
   "metadata": {},
   "outputs": [],
   "source": [
    "from gensim.models.word2vec import Word2Vec"
   ]
  },
  {
   "cell_type": "code",
   "execution_count": 328,
   "metadata": {},
   "outputs": [],
   "source": [
    "#get data from seperate files to be use to train word embeddings\n",
    "def word2vec_import_lyrics(folder):\n",
    "    all_songs = []\n",
    "    for item in os.listdir(folder):\n",
    "        file = folder + item\n",
    "        with open(file) as f:\n",
    "            tracks = f.readlines()\n",
    "            for track in tracks:\n",
    "                if len(track) < 10 or track == \"\\n\":\n",
    "                    continue\n",
    "                elif track == \"\":\n",
    "                    continue\n",
    "                else:\n",
    "                    all_songs.append(track)\n",
    "    return all_songs"
   ]
  },
  {
   "cell_type": "code",
   "execution_count": 329,
   "metadata": {},
   "outputs": [],
   "source": [
    "word2vec_lyrics = word2vec_import_lyrics(\"/Users/oyinlola/Desktop/MSc Data Science/LENT TERM/SCC 413 - Applied Data Mining/Research Projects/Lyrics/word2vec/\")"
   ]
  },
  {
   "cell_type": "code",
   "execution_count": 330,
   "metadata": {},
   "outputs": [
    {
     "data": {
      "text/plain": [
       "66050"
      ]
     },
     "execution_count": 330,
     "metadata": {},
     "output_type": "execute_result"
    }
   ],
   "source": [
    "len(word2vec_lyrics)"
   ]
  },
  {
   "cell_type": "markdown",
   "metadata": {},
   "source": [
    "- There are 66,050 songs used to train the word2vec model"
   ]
  },
  {
   "cell_type": "code",
   "execution_count": 331,
   "metadata": {},
   "outputs": [],
   "source": [
    "#preprocess\n",
    "clean_word2vec_lyrics = [replace_apostrophe(track) for track in word2vec_lyrics]\n",
    "clean_word2vec_lyrics = [preprocess(track) for track in clean_word2vec_lyrics]\n",
    "word2vec_lyrics_corpus = [tokenise(track) for track in clean_word2vec_lyrics]\n",
    "word2vec_lyrics_corpus = [remove_stopwords(tokens) for tokens in word2vec_lyrics_corpus]  #not sure this is relevant"
   ]
  },
  {
   "cell_type": "code",
   "execution_count": 332,
   "metadata": {},
   "outputs": [
    {
     "data": {
      "text/plain": [
       "66050"
      ]
     },
     "execution_count": 332,
     "metadata": {},
     "output_type": "execute_result"
    }
   ],
   "source": [
    "len(word2vec_lyrics_corpus)"
   ]
  },
  {
   "cell_type": "code",
   "execution_count": 333,
   "metadata": {},
   "outputs": [],
   "source": [
    "word2vec_model = Word2Vec(word2vec_lyrics_corpus, size=200, window=10, min_count=2, workers=10, sample=0.001)"
   ]
  },
  {
   "cell_type": "code",
   "execution_count": 334,
   "metadata": {
    "scrolled": true
   },
   "outputs": [
    {
     "data": {
      "text/plain": [
       "(20127924, 24212860)"
      ]
     },
     "execution_count": 334,
     "metadata": {},
     "output_type": "execute_result"
    }
   ],
   "source": [
    "word2vec_model.train(documents, total_examples=len(documents), epochs=10)"
   ]
  },
  {
   "cell_type": "code",
   "execution_count": 335,
   "metadata": {
    "scrolled": false
   },
   "outputs": [
    {
     "data": {
      "text/plain": [
       "[('baby', 0.5489543676376343),\n",
       " ('oh', 0.4587838053703308),\n",
       " ('way', 0.45303404331207275),\n",
       " ('darling', 0.4521137475967407),\n",
       " ('never', 0.44302061200141907),\n",
       " ('feel', 0.43786388635635376),\n",
       " ('loving', 0.4273035526275635),\n",
       " ('know', 0.4238782525062561),\n",
       " ('give', 0.4083635210990906),\n",
       " ('tenderly', 0.3925415575504303)]"
      ]
     },
     "execution_count": 335,
     "metadata": {},
     "output_type": "execute_result"
    }
   ],
   "source": [
    "word2vec_model.wv.most_similar(positive=\"love\", topn=10)"
   ]
  },
  {
   "cell_type": "code",
   "execution_count": 336,
   "metadata": {
    "scrolled": false
   },
   "outputs": [
    {
     "data": {
      "text/plain": [
       "[('baby', 0.47677338123321533),\n",
       " ('know', 0.39274898171424866),\n",
       " ('want', 0.36164340376853943),\n",
       " ('hice', 0.34430259466171265),\n",
       " ('sexy', 0.3401070833206177),\n",
       " ('boy', 0.33144062757492065),\n",
       " ('hook', 0.31593161821365356),\n",
       " ('alam', 0.31299349665641785),\n",
       " ('tonight', 0.2996935248374939),\n",
       " ('doggies', 0.2980412244796753)]"
      ]
     },
     "execution_count": 336,
     "metadata": {},
     "output_type": "execute_result"
    }
   ],
   "source": [
    "word2vec_model.wv.most_similar(positive=\"girl\", topn=10)"
   ]
  },
  {
   "cell_type": "code",
   "execution_count": 337,
   "metadata": {},
   "outputs": [
    {
     "data": {
      "text/plain": [
       "[('love', 0.548954427242279),\n",
       " ('want', 0.5205880999565125),\n",
       " ('know', 0.48951292037963867),\n",
       " ('oh', 0.4860249161720276),\n",
       " ('girl', 0.47677338123321533),\n",
       " ('ooh', 0.43238550424575806),\n",
       " ('babe', 0.4235520362854004),\n",
       " ('come', 0.3816792964935303),\n",
       " ('let', 0.36125144362449646),\n",
       " ('wanna', 0.3568750321865082)]"
      ]
     },
     "execution_count": 337,
     "metadata": {},
     "output_type": "execute_result"
    }
   ],
   "source": [
    "word2vec_model.wv.most_similar(positive=\"baby\", topn=10)"
   ]
  },
  {
   "cell_type": "code",
   "execution_count": 338,
   "metadata": {},
   "outputs": [
    {
     "name": "stderr",
     "output_type": "stream",
     "text": [
      "/anaconda3/lib/python3.6/site-packages/ipykernel_launcher.py:1: DeprecationWarning: Call to deprecated `syn0` (Attribute will be removed in 4.0.0, use self.vectors instead).\n",
      "  \"\"\"Entry point for launching an IPython kernel.\n"
     ]
    },
    {
     "data": {
      "text/plain": [
       "200"
      ]
     },
     "execution_count": 338,
     "metadata": {},
     "output_type": "execute_result"
    }
   ],
   "source": [
    "word_embeddings = dict(zip(word2vec_model.wv.index2word, word2vec_model.wv.syn0))  #this is a word embedding dictionary mapping a word to a 200-dimensional vector\n",
    "len(word_embedding['love'])"
   ]
  },
  {
   "cell_type": "markdown",
   "metadata": {},
   "source": [
    "##### To do: Visualize word embeddings"
   ]
  },
  {
   "cell_type": "markdown",
   "metadata": {},
   "source": [
    "### Feature Extraction"
   ]
  },
  {
   "cell_type": "code",
   "execution_count": 340,
   "metadata": {},
   "outputs": [],
   "source": [
    "class Artist:\n",
    "    def __init__(self, obj):\n",
    "        self.gender = obj['gender']\n",
    "        self.lyrics = \"\"\n",
    "        self.tokens = []\n",
    "        self.pos_list = []\n",
    "        self.num_tokens = 0\n",
    "        self.adj_pos_present = 0\n",
    "        self.pp_pos_present = 0\n",
    "        self.vb_pos_present = 0\n",
    "        self.pos_fql = Counter()\n",
    "        self.bigrams = Counter()\n",
    "        self.trigrams = Counter()\n",
    "        self.tokens_fql = Counter()\n",
    "        self.pp_pos_fql = Counter()\n",
    "        self.adj_pos_fql = Counter()\n",
    "        self.vb_pos_fql = Counter()\n",
    "        self.word_embeddings = word_embeddings\n",
    "        self.dimension = 0\n",
    "        \n",
    "        \n",
    "    tokenise_re = re.compile(r\"(\\[[^\\]]+\\]|[-'\\w]+|[^\\s\\w\\[']+)\") \n",
    "    def tokenise(self, text):\n",
    "        return tokenise_re.findall(text)\n",
    "\n",
    "    def extract_features(self, track):\n",
    "        self.lyrics += track\n",
    "        p_lyrics = replace_apostrophe(track) \n",
    "        p_lyrics = preprocess(p_lyrics) \n",
    "        self.lyrics = p_lyrics\n",
    "        tokens = self.tokenise(p_lyrics)\n",
    "        tokens = remove_stopwords(tokens)\n",
    "        self.num_tokens += len(tokens)\n",
    "        self.tokens.extend(tokens)\n",
    "        self.num_tokens += len(tokens)\n",
    "        self.tokens_fql.update(tokens)\n",
    "        pos_tagged = nltk.pos_tag(tokens)\n",
    "        pos = [tag[1] for tag in pos_tagged]\n",
    "        self.pos_fql.update(pos)\n",
    "        self.pos_list.extend(pos)\n",
    "        self.bigrams.update(self.ngrams(tokens, 2))\n",
    "        self.trigrams.update(self.ngrams(tokens, 3))\n",
    "        self.pp_pos_fql.update(self.adjectives(self.pos_list))\n",
    "        self.adj_pos_fql.update(self.personal_pronoun(self.pos_list))\n",
    "        self.vb_pos_fql.update(self.verb(self.pos_list))\n",
    "        self.dimension = len(next(iter(word_embeddings.items()))) #return a vector of zeros with same dimensionality as other vectors if empty\n",
    "        \n",
    "        \n",
    "    #lexical features \n",
    "    def ngrams(self, tokens, n, sep = \"_\", buffer=\"^\"):\n",
    "        buffered = [buffer] * (n-1) + tokens + [buffer] * (n-1) \n",
    "        return [sep.join(buffered[i:i+n]) for i in range(len(buffered)-n+1)]\n",
    "    \n",
    "    def extract_features_from_lyrics(self, tracks):\n",
    "        for lyrics in tracks:\n",
    "            extract_features(lyrics)\n",
    "            \n",
    "    def average_token_length(self):\n",
    "        sum_lengths = 0\n",
    "        for key, value in self.tokens_fql.items():\n",
    "            sum_lengths += len(key) * value\n",
    "        return sum_lengths / self.num_tokens\n",
    "    \n",
    "    def average_word_length(self):\n",
    "        avg_word_length = sum([len(tok) for tok in self.tokens])/len(self.tokens)\n",
    "        return avg_word_length\n",
    "    \n",
    "    #Syntactic features: POS used adjectives, personal pronouns, verbs,\n",
    "    def adjectives(self, pos_list):\n",
    "        adj_pos = []\n",
    "        for pos in pos_list:\n",
    "            if pos == \"JJ\" or pos == \"ADJ\":\n",
    "                adj_pos.append(pos)\n",
    "\n",
    "        if len(adj_pos) == 0:\n",
    "            self.adj_pos_present = 0\n",
    "            return {\"None present\":0}\n",
    "        else:\n",
    "            self.adj_pos_present = len(adj_pos)\n",
    "            return adj_pos\n",
    "            \n",
    "    def personal_pronoun(self, pos_list):\n",
    "        pp_pos = []\n",
    "        for pos in pos_list:\n",
    "            if pos == \"PRP\":\n",
    "                pp_pos.append(pos)\n",
    "    \n",
    "        if len(pp_pos) == 0:\n",
    "            self.pp_pos_present = 0\n",
    "            return {\"None present\":0}\n",
    "        else:\n",
    "            self.pp_pos_present = len(pp_pos)\n",
    "            return pp_pos\n",
    "    \n",
    "    def verb(self, pos_list):\n",
    "        vb_pos = []\n",
    "        for pos in pos_list:\n",
    "            if pos == \"VB\":\n",
    "                vb_pos.append(pos)\n",
    "\n",
    "        if len(vb_pos) == 0:\n",
    "            self.vb_pos_present = 0\n",
    "            return {\"None present\":0}\n",
    "        else:\n",
    "            self.vb_pos_present = len(vb_pos)\n",
    "            return vb_pos\n",
    "    \n",
    "    def adj_present(self, tokens):\n",
    "        count = len(self.adjectives(tokens))\n",
    "        return count\n",
    "    \n",
    "    def pp_present(self, tokens):\n",
    "        count = len(self.personal_pronoun(tokens))\n",
    "        return count\n",
    "    \n",
    "    def vb_present(self, tokens):\n",
    "        count = len(self.personal_pronoun(tokens))\n",
    "        return count"
   ]
  },
  {
   "cell_type": "code",
   "execution_count": 341,
   "metadata": {},
   "outputs": [],
   "source": [
    "class DocumentProcessor(BaseEstimator, TransformerMixin):\n",
    "    def __init__(self, process_method):\n",
    "        self.process_method = process_method\n",
    "    \n",
    "    def fit(self, X, y=None):\n",
    "        return self\n",
    "    \n",
    "    def transform(self, documents):\n",
    "        for document in documents:\n",
    "            yield self.process_method(document)"
   ]
  },
  {
   "cell_type": "code",
   "execution_count": 254,
   "metadata": {},
   "outputs": [],
   "source": [
    "#baseline\n",
    "def get_bow(document):\n",
    "    return document.tokens\n",
    "\n",
    "def get_tokens_fql(document):\n",
    "    return document.tokens_fql\n",
    "\n",
    "def get_bigrams(document):\n",
    "    return document.bigrams\n",
    "\n",
    "def get_trigrams(document):\n",
    "    return document.trigrams\n",
    "\n",
    "def get_pos_fql(document):\n",
    "    return document.pos_fql\n",
    "\n",
    "def get_adj_fql(document):\n",
    "    return document.adj_pos_fql\n",
    "\n",
    "def get_pp_fql(document):\n",
    "    return document.pp_pos_fql\n",
    "\n",
    "def get_vb_fql(document):\n",
    "    return document.vb_pos_fql\n",
    "\n",
    "def get_adj_present(document):\n",
    "    return document.adj_pos_present\n",
    "\n",
    "def get_pp_present(document):\n",
    "    return document.pp_pos_present\n",
    "\n",
    "def get_vb_present(document):\n",
    "    return document.vb_pos_present\n",
    "\n",
    "def get_text_stats(document):\n",
    "    ttr = len(document.tokens_fql) / document.num_tokens\n",
    "    return {'avg_token_length': document.average_token_length(), 'ttr': ttr }\n",
    "\n",
    "def get_avg_word_length(document):\n",
    "    return {'avg_word_length': document.average_word_length()}\n",
    "\n",
    "#word embeddings\n",
    "def get_word_emb(document):\n",
    "    return {'dim': document.dimension}\n",
    "\n",
    "def get_mean_word_emb(document):\n",
    "    mean = np.array([np.mean([document.word_embeddings[word] for word in tokens if word in document.word_embeddings]\n",
    "                            or [np.zeros(document.dimension)], axis = 0)\n",
    "                     for tokens in document\n",
    "                    ])\n",
    "    return mean"
   ]
  },
  {
   "cell_type": "code",
   "execution_count": 239,
   "metadata": {},
   "outputs": [],
   "source": [
    "def import_lyrics(file, gender):\n",
    "    metadata = {'gender': gender}\n",
    "    with open(file) as f:\n",
    "        tracks = f.readlines()\n",
    "        for track in tracks:\n",
    "            if len(track) < 10 or track == \"\\n\":\n",
    "                continue\n",
    "            elif track == \"\":\n",
    "                continue\n",
    "            else:\n",
    "                song = Artist(metadata)\n",
    "                song.extract_features(track)\n",
    "                if len(song.tokens) == 0:\n",
    "                    continue\n",
    "                yield song"
   ]
  },
  {
   "cell_type": "code",
   "execution_count": 240,
   "metadata": {},
   "outputs": [],
   "source": [
    "def build_corpus(folder, gender):\n",
    "    corpus = []\n",
    "    files = []\n",
    "    for file in os.listdir(folder):\n",
    "        file = folder + file\n",
    "        files.append(file)\n",
    "    for file in files:\n",
    "        words = import_lyrics(file, gender)\n",
    "        corpus.extend(words)\n",
    "    return corpus"
   ]
  },
  {
   "cell_type": "code",
   "execution_count": 255,
   "metadata": {
    "scrolled": true
   },
   "outputs": [],
   "source": [
    "corpus = []\n",
    "\n",
    "female = build_corpus(\"Data/female_new/\", \"female\")\n",
    "male = build_corpus(\"Data/male_new/\", \"male\")\n",
    "\n",
    "corpus.extend(female) \n",
    "corpus.extend(male)"
   ]
  },
  {
   "cell_type": "code",
   "execution_count": 256,
   "metadata": {},
   "outputs": [
    {
     "name": "stdout",
     "output_type": "stream",
     "text": [
      "Female:  17572\n",
      "Male:  23585\n"
     ]
    }
   ],
   "source": [
    "print(\"Female: \", len(female))\n",
    "print(\"Male: \", len(male))"
   ]
  },
  {
   "cell_type": "code",
   "execution_count": 257,
   "metadata": {},
   "outputs": [],
   "source": [
    "y = [d.gender for d in corpus]\n",
    "X = corpus"
   ]
  },
  {
   "cell_type": "code",
   "execution_count": 245,
   "metadata": {},
   "outputs": [],
   "source": [
    "adj_fql_male = [adj.adj_pos_present for adj in corpus if adj.gender==\"male\"]\n",
    "pp_fql_male = [pp.pp_pos_present for pp in corpus if pp.gender==\"male\"]\n",
    "vb_fql_male = [vb.vb_pos_present for vb in corpus if vb.gender==\"male\"]\n",
    "\n",
    "adj_fql_female = [adj.adj_pos_present for adj in corpus if adj.gender==\"female\"]\n",
    "pp_fql_female = [pp.pp_pos_present for pp in corpus if pp.gender==\"female\"]\n",
    "vb_fql_female = [vb.vb_pos_present for vb in corpus if vb.gender==\"female\"]"
   ]
  },
  {
   "cell_type": "code",
   "execution_count": 246,
   "metadata": {},
   "outputs": [
    {
     "data": {
      "image/png": "[encoded data removed]",
      "text/plain": [
       "<Figure size 432x288 with 1 Axes>"
      ]
     },
     "metadata": {},
     "output_type": "display_data"
    }
   ],
   "source": [
    "fig = plt.figure()\n",
    "ax = fig.add_subplot(111)\n",
    "\n",
    "ax.bar(0.25,adj_fql_male,width,color='b',label='-Ymin')\n",
    "ax.bar(0.35,adj_fql_female,width,color='r',label='Ymax')\n",
    "\n",
    "plt.show()"
   ]
  },
  {
   "cell_type": "code",
   "execution_count": 247,
   "metadata": {},
   "outputs": [
    {
     "data": {
      "text/plain": [
       "'{0, 1, 2, 3, 4, 5, 6, 7, 8, 9, 10, 11, 12, 13, 14, 15, 16, 17, 18, 19, 20, 21, 22, 23, 24, 25, 26, 27, 28, 29, 30, 31, 32, 33, 34, 35, 36, 37, 38, 39, 40, 41, 42, 43, 44, 45, 46, 47, 48, 49, 50, 51, 52, 53, 54, 61, 64, 65, 66, 67, 79, 105}'"
      ]
     },
     "execution_count": 247,
     "metadata": {},
     "output_type": "execute_result"
    }
   ],
   "source": [
    "str(set(adj_fql_male))"
   ]
  },
  {
   "cell_type": "code",
   "execution_count": 248,
   "metadata": {},
   "outputs": [
    {
     "data": {
      "text/plain": [
       "'{0, 1, 2, 3, 4, 5, 6, 7, 8, 9, 10, 11, 12, 13, 14, 15, 16, 17, 18, 19, 20, 21, 22, 23, 24, 25, 26, 27, 28, 29, 30, 31, 32, 33, 34, 35, 36, 37, 38, 39, 40, 42, 44, 45, 46, 48, 49, 50, 56, 57, 67}'"
      ]
     },
     "execution_count": 248,
     "metadata": {},
     "output_type": "execute_result"
    }
   ],
   "source": [
    "str(set(adj_fql_female))"
   ]
  },
  {
   "cell_type": "markdown",
   "metadata": {},
   "source": [
    "### Train Model"
   ]
  },
  {
   "cell_type": "code",
   "execution_count": 258,
   "metadata": {},
   "outputs": [
    {
     "name": "stdout",
     "output_type": "stream",
     "text": [
      "32925 8232\n",
      "32925 8232\n"
     ]
    }
   ],
   "source": [
    "X_train, X_test, y_train, y_test = train_test_split(X,y, test_size=0.2, random_state = 0, stratify=y)\n",
    "print(len(X_train), len(X_test))\n",
    "print(len(y_train), len(y_test))"
   ]
  },
  {
   "cell_type": "code",
   "execution_count": null,
   "metadata": {},
   "outputs": [],
   "source": []
  },
  {
   "cell_type": "code",
   "execution_count": null,
   "metadata": {},
   "outputs": [],
   "source": []
  },
  {
   "cell_type": "code",
   "execution_count": null,
   "metadata": {},
   "outputs": [],
   "source": []
  },
  {
   "cell_type": "code",
   "execution_count": null,
   "metadata": {},
   "outputs": [],
   "source": []
  },
  {
   "cell_type": "code",
   "execution_count": 280,
   "metadata": {},
   "outputs": [],
   "source": [
    "model = Pipeline([\n",
    "    ('union', FeatureUnion(\n",
    "        transformer_list = [\n",
    "            ('bow_features', Pipeline([\n",
    "                ('bow_processor', DocumentProcessor(process_method = get_tokens_fql)),\n",
    "                ('pos_vectorizer', DictVectorizer()),\n",
    "            ])),\n",
    "#              ('bigram', Pipeline([\n",
    "#                 ('bigram_processor', DocumentProcessor(process_method = get_bigrams)),\n",
    "#                 ('bigram_vectorizer', DictVectorizer()),\n",
    "#             ])),\n",
    "#             ('trigram', Pipeline([\n",
    "#                 ('trigram_processor', DocumentProcessor(process_method = get_trigrams)),\n",
    "#                 ('trigram_vectorizer', DictVectorizer()),\n",
    "#             ])),\n",
    "#             ('pos_features', Pipeline([\n",
    "#                 ('pos_processor', DocumentProcessor(process_method = get_pos_fql)),\n",
    "#                 ('pos_vectorizer', DictVectorizer()),\n",
    "#             ])),\n",
    "#             ('stats_features', Pipeline([\n",
    "#                 ('stats_processor', DocumentProcessor(process_method = get_text_stats)),\n",
    "#                 ('stats_vectorizer', DictVectorizer()),\n",
    "#             ])),\n",
    "#             ('avg_word_length', Pipeline([\n",
    "#                 ('processor', DocumentProcessor(process_method = get_avg_word_length)),\n",
    "#                 ('vectorizer', DictVectorizer()),\n",
    "#             ])),\n",
    "#             ('adj_fql', Pipeline([\n",
    "#                 ('processor', DocumentProcessor(process_method = get_adj_fql)),\n",
    "#                 ('vectorizer', DictVectorizer()),\n",
    "#             ])),\n",
    "#             ('pp_fql', Pipeline([\n",
    "#                 ('processor', DocumentProcessor(process_method = get_pp_fql)),\n",
    "#                 ('vectorizer', DictVectorizer()),\n",
    "#             ])),\n",
    "#             ('word_emb_dim', Pipeline([\n",
    "#                 ('processor', DocumentProcessor(process_method = get_word_emb)),\n",
    "#                 ('vectorizer', DictVectorizer()),\n",
    "#             ])),\n",
    "#             ('mean_word_emb_dim', Pipeline([\n",
    "#                 ('processor', DocumentProcessor(process_method = get_mean_word_emb)),\n",
    "#                 ('vectorizer', DictVectorizer()),\n",
    "#             ])),\n",
    "        ],\n",
    "    )),\n",
    "#     ('selector', SelectKBest(score_func = chi2, k=20000)),\n",
    "#     ('norm', TfidfTransformer()),\n",
    "#     ('clf', DecisionTreeClassifier()),\n",
    "    ('clf', None),\n",
    "])"
   ]
  },
  {
   "cell_type": "code",
   "execution_count": 281,
   "metadata": {},
   "outputs": [
    {
     "data": {
      "text/plain": [
       "GridSearchCV(cv=StratifiedKFold(n_splits=5, random_state=0, shuffle=False),\n",
       "       error_score='raise',\n",
       "       estimator=Pipeline(memory=None,\n",
       "     steps=[('union', FeatureUnion(n_jobs=1,\n",
       "       transformer_list=[('bow_features', Pipeline(memory=None,\n",
       "     steps=[('bow_processor', DocumentProcessor(process_method=<function get_tokens_fql at 0x1a5d566ae8>)), ('pos_vectorizer', DictVectorizer(dtype=<class 'numpy.float64'>, separator='=', sort=True,\n",
       "        sparse=True))]))],\n",
       "       transformer_weights=None)), ('clf', None)]),\n",
       "       fit_params=None, iid=True, n_jobs=1,\n",
       "       param_grid=[{'clf': [LogisticRegression(C=2.5, class_weight=None, dual=False, fit_intercept=True,\n",
       "          intercept_scaling=1, max_iter=100, multi_class='ovr', n_jobs=1,\n",
       "          penalty='l2', random_state=0, solver='liblinear', tol=0.0001,\n",
       "          verbose=0, warm_start=False)], 'clf__C': [1.0, 1.5, 2.0, 2.5]}],\n",
       "       pre_dispatch='2*n_jobs', refit='f1_weighted',\n",
       "       return_train_score=False,\n",
       "       scoring=['accuracy', 'precision_weighted', 'recall_weighted', 'f1_weighted'],\n",
       "       verbose=0)"
      ]
     },
     "execution_count": 281,
     "metadata": {},
     "output_type": "execute_result"
    }
   ],
   "source": [
    "search = GridSearchCV(model, cv=StratifiedKFold(n_splits=5, random_state=0),\n",
    "                     return_train_score=False,\n",
    "                     scoring=[\"accuracy\", \"precision_weighted\", \"recall_weighted\", \"f1_weighted\"],\n",
    "                     refit=\"f1_weighted\",\n",
    "                     param_grid = [\n",
    "                         {\n",
    "                             'clf': [LogisticRegression(solver='liblinear', random_state=0)],\n",
    "                             'clf__C': [1.0, 1.5, 2.0, 2.5],\n",
    "                         }\n",
    "                     ])\n",
    "\n",
    "search.fit(X_train, y_train)"
   ]
  },
  {
   "cell_type": "code",
   "execution_count": 282,
   "metadata": {},
   "outputs": [
    {
     "data": {
      "text/html": [
       "<div>\n",
       "<style scoped>\n",
       "    .dataframe tbody tr th:only-of-type {\n",
       "        vertical-align: middle;\n",
       "    }\n",
       "\n",
       "    .dataframe tbody tr th {\n",
       "        vertical-align: top;\n",
       "    }\n",
       "\n",
       "    .dataframe thead th {\n",
       "        text-align: right;\n",
       "    }\n",
       "</style>\n",
       "<table border=\"1\" class=\"dataframe\">\n",
       "  <thead>\n",
       "    <tr style=\"text-align: right;\">\n",
       "      <th></th>\n",
       "      <th>mean_fit_time</th>\n",
       "      <th>std_fit_time</th>\n",
       "      <th>mean_score_time</th>\n",
       "      <th>std_score_time</th>\n",
       "      <th>param_clf</th>\n",
       "      <th>param_clf__C</th>\n",
       "      <th>params</th>\n",
       "      <th>split0_test_accuracy</th>\n",
       "      <th>split1_test_accuracy</th>\n",
       "      <th>split2_test_accuracy</th>\n",
       "      <th>...</th>\n",
       "      <th>std_test_recall_weighted</th>\n",
       "      <th>rank_test_recall_weighted</th>\n",
       "      <th>split0_test_f1_weighted</th>\n",
       "      <th>split1_test_f1_weighted</th>\n",
       "      <th>split2_test_f1_weighted</th>\n",
       "      <th>split3_test_f1_weighted</th>\n",
       "      <th>split4_test_f1_weighted</th>\n",
       "      <th>mean_test_f1_weighted</th>\n",
       "      <th>std_test_f1_weighted</th>\n",
       "      <th>rank_test_f1_weighted</th>\n",
       "    </tr>\n",
       "  </thead>\n",
       "  <tbody>\n",
       "    <tr>\n",
       "      <th>0</th>\n",
       "      <td>7.360033</td>\n",
       "      <td>3.053071</td>\n",
       "      <td>1.285292</td>\n",
       "      <td>0.196144</td>\n",
       "      <td>LogisticRegression(C=2.5, class_weight=None, d...</td>\n",
       "      <td>1</td>\n",
       "      <td>{'clf': LogisticRegression(C=2.5, class_weight...</td>\n",
       "      <td>0.896143</td>\n",
       "      <td>0.894018</td>\n",
       "      <td>0.899924</td>\n",
       "      <td>...</td>\n",
       "      <td>0.002175</td>\n",
       "      <td>4</td>\n",
       "      <td>0.896180</td>\n",
       "      <td>0.893943</td>\n",
       "      <td>0.899962</td>\n",
       "      <td>0.894004</td>\n",
       "      <td>0.896633</td>\n",
       "      <td>0.896145</td>\n",
       "      <td>0.002202</td>\n",
       "      <td>4</td>\n",
       "    </tr>\n",
       "    <tr>\n",
       "      <th>1</th>\n",
       "      <td>6.193587</td>\n",
       "      <td>0.880144</td>\n",
       "      <td>0.980046</td>\n",
       "      <td>0.050683</td>\n",
       "      <td>LogisticRegression(C=2.5, class_weight=None, d...</td>\n",
       "      <td>1.5</td>\n",
       "      <td>{'clf': LogisticRegression(C=2.5, class_weight...</td>\n",
       "      <td>0.898117</td>\n",
       "      <td>0.897814</td>\n",
       "      <td>0.902809</td>\n",
       "      <td>...</td>\n",
       "      <td>0.001881</td>\n",
       "      <td>3</td>\n",
       "      <td>0.898165</td>\n",
       "      <td>0.897759</td>\n",
       "      <td>0.902844</td>\n",
       "      <td>0.898420</td>\n",
       "      <td>0.900434</td>\n",
       "      <td>0.899524</td>\n",
       "      <td>0.001899</td>\n",
       "      <td>3</td>\n",
       "    </tr>\n",
       "    <tr>\n",
       "      <th>2</th>\n",
       "      <td>5.969104</td>\n",
       "      <td>0.305371</td>\n",
       "      <td>0.981703</td>\n",
       "      <td>0.039869</td>\n",
       "      <td>LogisticRegression(C=2.5, class_weight=None, d...</td>\n",
       "      <td>2</td>\n",
       "      <td>{'clf': LogisticRegression(C=2.5, class_weight...</td>\n",
       "      <td>0.900395</td>\n",
       "      <td>0.899787</td>\n",
       "      <td>0.903417</td>\n",
       "      <td>...</td>\n",
       "      <td>0.001235</td>\n",
       "      <td>2</td>\n",
       "      <td>0.900443</td>\n",
       "      <td>0.899736</td>\n",
       "      <td>0.903447</td>\n",
       "      <td>0.901456</td>\n",
       "      <td>0.901486</td>\n",
       "      <td>0.901314</td>\n",
       "      <td>0.001253</td>\n",
       "      <td>2</td>\n",
       "    </tr>\n",
       "    <tr>\n",
       "      <th>3</th>\n",
       "      <td>6.273118</td>\n",
       "      <td>1.084857</td>\n",
       "      <td>1.021156</td>\n",
       "      <td>0.057479</td>\n",
       "      <td>LogisticRegression(C=2.5, class_weight=None, d...</td>\n",
       "      <td>2.5</td>\n",
       "      <td>{'clf': LogisticRegression(C=2.5, class_weight...</td>\n",
       "      <td>0.901002</td>\n",
       "      <td>0.899939</td>\n",
       "      <td>0.904480</td>\n",
       "      <td>...</td>\n",
       "      <td>0.001760</td>\n",
       "      <td>1</td>\n",
       "      <td>0.901050</td>\n",
       "      <td>0.899895</td>\n",
       "      <td>0.904512</td>\n",
       "      <td>0.904194</td>\n",
       "      <td>0.902696</td>\n",
       "      <td>0.902469</td>\n",
       "      <td>0.001780</td>\n",
       "      <td>1</td>\n",
       "    </tr>\n",
       "  </tbody>\n",
       "</table>\n",
       "<p>4 rows × 39 columns</p>\n",
       "</div>"
      ],
      "text/plain": [
       "   mean_fit_time  std_fit_time  mean_score_time  std_score_time  \\\n",
       "0       7.360033      3.053071         1.285292        0.196144   \n",
       "1       6.193587      0.880144         0.980046        0.050683   \n",
       "2       5.969104      0.305371         0.981703        0.039869   \n",
       "3       6.273118      1.084857         1.021156        0.057479   \n",
       "\n",
       "                                           param_clf param_clf__C  \\\n",
       "0  LogisticRegression(C=2.5, class_weight=None, d...            1   \n",
       "1  LogisticRegression(C=2.5, class_weight=None, d...          1.5   \n",
       "2  LogisticRegression(C=2.5, class_weight=None, d...            2   \n",
       "3  LogisticRegression(C=2.5, class_weight=None, d...          2.5   \n",
       "\n",
       "                                              params  split0_test_accuracy  \\\n",
       "0  {'clf': LogisticRegression(C=2.5, class_weight...              0.896143   \n",
       "1  {'clf': LogisticRegression(C=2.5, class_weight...              0.898117   \n",
       "2  {'clf': LogisticRegression(C=2.5, class_weight...              0.900395   \n",
       "3  {'clf': LogisticRegression(C=2.5, class_weight...              0.901002   \n",
       "\n",
       "   split1_test_accuracy  split2_test_accuracy  ...  std_test_recall_weighted  \\\n",
       "0              0.894018              0.899924  ...                  0.002175   \n",
       "1              0.897814              0.902809  ...                  0.001881   \n",
       "2              0.899787              0.903417  ...                  0.001235   \n",
       "3              0.899939              0.904480  ...                  0.001760   \n",
       "\n",
       "   rank_test_recall_weighted  split0_test_f1_weighted  \\\n",
       "0                          4                 0.896180   \n",
       "1                          3                 0.898165   \n",
       "2                          2                 0.900443   \n",
       "3                          1                 0.901050   \n",
       "\n",
       "   split1_test_f1_weighted  split2_test_f1_weighted  split3_test_f1_weighted  \\\n",
       "0                 0.893943                 0.899962                 0.894004   \n",
       "1                 0.897759                 0.902844                 0.898420   \n",
       "2                 0.899736                 0.903447                 0.901456   \n",
       "3                 0.899895                 0.904512                 0.904194   \n",
       "\n",
       "   split4_test_f1_weighted  mean_test_f1_weighted  std_test_f1_weighted  \\\n",
       "0                 0.896633               0.896145              0.002202   \n",
       "1                 0.900434               0.899524              0.001899   \n",
       "2                 0.901486               0.901314              0.001253   \n",
       "3                 0.902696               0.902469              0.001780   \n",
       "\n",
       "   rank_test_f1_weighted  \n",
       "0                      4  \n",
       "1                      3  \n",
       "2                      2  \n",
       "3                      1  \n",
       "\n",
       "[4 rows x 39 columns]"
      ]
     },
     "execution_count": 282,
     "metadata": {},
     "output_type": "execute_result"
    }
   ],
   "source": [
    "pd.DataFrame(search.cv_results_)"
   ]
  },
  {
   "cell_type": "code",
   "execution_count": 283,
   "metadata": {},
   "outputs": [
    {
     "data": {
      "text/plain": [
       "{'clf': LogisticRegression(C=2.5, class_weight=None, dual=False, fit_intercept=True,\n",
       "           intercept_scaling=1, max_iter=100, multi_class='ovr', n_jobs=1,\n",
       "           penalty='l2', random_state=0, solver='liblinear', tol=0.0001,\n",
       "           verbose=0, warm_start=False), 'clf__C': 2.5}"
      ]
     },
     "execution_count": 283,
     "metadata": {},
     "output_type": "execute_result"
    }
   ],
   "source": [
    "search.best_params_"
   ]
  },
  {
   "cell_type": "code",
   "execution_count": null,
   "metadata": {},
   "outputs": [],
   "source": []
  },
  {
   "cell_type": "code",
   "execution_count": 264,
   "metadata": {},
   "outputs": [],
   "source": [
    "def print_cv_scores_summary(name, scores):\n",
    "    print(\"{}: mean = {:.2f}%, sd = {:.2f}%, min = {:.2f}, max = {:.2f}\".format(name, scores.mean()*100, scores.std()*100, scores.min()*100, scores.max()*100))"
   ]
  },
  {
   "cell_type": "code",
   "execution_count": 270,
   "metadata": {},
   "outputs": [],
   "source": [
    "cv_scores = cross_validate(model, X, y, cv=StratifiedKFold(n_splits=5, random_state=0), return_train_score=False, scoring=['accuracy', 'precision_weighted', 'recall_weighted', 'f1_weighted'])\n",
    "print_cv_scores_summary(\"Accuracy\", cv_scores['test_accuracy'])\n",
    "print_cv_scores_summary(\"Precision\", cv_scores['test_precision_weighted'])\n",
    "print_cv_scores_summary(\"Recall\", cv_scores['test_recall_weighted'])\n",
    "print_cv_scores_summary(\"F1\", cv_scores['test_f1_weighted'])"
   ]
  },
  {
   "cell_type": "code",
   "execution_count": null,
   "metadata": {},
   "outputs": [],
   "source": []
  },
  {
   "cell_type": "code",
   "execution_count": null,
   "metadata": {},
   "outputs": [],
   "source": []
  },
  {
   "cell_type": "markdown",
   "metadata": {},
   "source": [
    "### Trying a Neural Net"
   ]
  },
  {
   "cell_type": "code",
   "execution_count": 728,
   "metadata": {},
   "outputs": [],
   "source": [
    "from __future__ import absolute_import, division, print_function\n",
    "import tensorflow as tf\n",
    "from tensorflow import keras\n",
    "import numpy as np"
   ]
  },
  {
   "cell_type": "code",
   "execution_count": 729,
   "metadata": {},
   "outputs": [
    {
     "name": "stdout",
     "output_type": "stream",
     "text": [
      "1.12.0\n"
     ]
    }
   ],
   "source": [
    "print(tf.__version__)"
   ]
  },
  {
   "cell_type": "code",
   "execution_count": 776,
   "metadata": {},
   "outputs": [],
   "source": [
    "data = [i.lyrics for i in X]\n",
    "labels = y"
   ]
  },
  {
   "cell_type": "code",
   "execution_count": 791,
   "metadata": {},
   "outputs": [],
   "source": [
    "tokenizer = tf.keras.preprocessing.text.Tokenizer(num_words=20000) #keep 20000 most common words"
   ]
  },
  {
   "cell_type": "code",
   "execution_count": 780,
   "metadata": {},
   "outputs": [],
   "source": [
    "tokenizer.fit_on_texts(data)\n",
    "feats = tokenizer.texts_to_sequences(data)"
   ]
  },
  {
   "cell_type": "code",
   "execution_count": 779,
   "metadata": {},
   "outputs": [],
   "source": [
    "labels = pd.get_dummies(y)"
   ]
  },
  {
   "cell_type": "code",
   "execution_count": 781,
   "metadata": {},
   "outputs": [],
   "source": [
    "feat_train, feat_test, lbl_train, lbl_test = train_test_split(feats, labels, test_size=0.2, random_state = 0, stratify=labels)"
   ]
  },
  {
   "cell_type": "code",
   "execution_count": 783,
   "metadata": {},
   "outputs": [
    {
     "data": {
      "text/plain": [
       "799"
      ]
     },
     "execution_count": 783,
     "metadata": {},
     "output_type": "execute_result"
    }
   ],
   "source": [
    "max_length = 0\n",
    "for i in feat_train:\n",
    "    if len(i) > max_length:\n",
    "        max = len(i)\n",
    "max_length    #maximum number token length in training set is 799"
   ]
  },
  {
   "cell_type": "code",
   "execution_count": 787,
   "metadata": {},
   "outputs": [],
   "source": [
    "#pad all tokens to 800 since longest token present is of length 799. This is to ensure consistency in the matrix\n",
    "feat_train = keras.preprocessing.sequence.pad_sequences(feat_train, padding=\"post\", maxlen=max_length)\n",
    "feat_test = keras.preprocessing.sequence.pad_sequences(feat_test, padding=\"post\", maxlen=max_length)"
   ]
  },
  {
   "cell_type": "code",
   "execution_count": 746,
   "metadata": {},
   "outputs": [],
   "source": [
    "len(feat_train[0]), len(feat_train[4567])"
   ]
  },
  {
   "cell_type": "code",
   "execution_count": 800,
   "metadata": {},
   "outputs": [
    {
     "name": "stdout",
     "output_type": "stream",
     "text": [
      "_________________________________________________________________\n",
      "Layer (type)                 Output Shape              Param #   \n",
      "=================================================================\n",
      "embedding_1 (Embedding)      (None, None, 16)          320000    \n",
      "_________________________________________________________________\n",
      "global_average_pooling1d_1 ( (None, 16)                0         \n",
      "_________________________________________________________________\n",
      "dense_2 (Dense)              (None, 16)                272       \n",
      "_________________________________________________________________\n",
      "dense_3 (Dense)              (None, 2)                 34        \n",
      "=================================================================\n",
      "Total params: 320,306\n",
      "Trainable params: 320,306\n",
      "Non-trainable params: 0\n",
      "_________________________________________________________________\n"
     ]
    }
   ],
   "source": [
    "#build model\n",
    "unique_words_size = 20000\n",
    "\n",
    "model = keras.Sequential()\n",
    "\n",
    "# embedding layer that looks up the embedding vector for each word-index\n",
    "model.add(keras.layers.Embedding(unique_words_size, 16))\n",
    "\n",
    "#returns a fixed-length output vector for each example by averaging over the sequence dimension. \n",
    "#This allows the model to handle input of variable length, in the simplest way possible.\n",
    "model.add(keras.layers.GlobalAveragePooling1D())\n",
    "\n",
    "#This fixed-length output vector is piped through a fully-connected (Dense) layer with 16 hidden units\n",
    "model.add(keras.layers.Dense(16, activation=tf.nn.relu))\n",
    "\n",
    "#The last layer is densely connected with a single output node. Using the sigmoid activation function, this value \n",
    "#is a float between 0 and 1, representing a probability, or confidence level.\n",
    "model.add(keras.layers.Dense(2, activation=tf.nn.sigmoid))\n",
    "\n",
    "model.summary()"
   ]
  },
  {
   "cell_type": "code",
   "execution_count": 801,
   "metadata": {},
   "outputs": [],
   "source": [
    "model.compile(optimizer='adam', loss='binary_crossentropy', metrics=['acc'])"
   ]
  },
  {
   "cell_type": "code",
   "execution_count": 802,
   "metadata": {},
   "outputs": [],
   "source": [
    "#create a validation set\n",
    "feat_val = feat_train[:10000]\n",
    "part_feat_train = feat_train[10000:]\n",
    "\n",
    "lbl_val = lbl_train[:10000]\n",
    "part_lbl_train = lbl_train[10000:]"
   ]
  },
  {
   "cell_type": "code",
   "execution_count": 803,
   "metadata": {},
   "outputs": [
    {
     "name": "stderr",
     "output_type": "stream",
     "text": [
      "/anaconda3/lib/python3.6/site-packages/tensorflow/python/ops/gradients_impl.py:112: UserWarning: Converting sparse IndexedSlices to a dense Tensor of unknown shape. This may consume a large amount of memory.\n",
      "  \"Converting sparse IndexedSlices to a dense Tensor of unknown shape. \"\n"
     ]
    },
    {
     "name": "stdout",
     "output_type": "stream",
     "text": [
      "Train on 22992 samples, validate on 10000 samples\n",
      "Epoch 1/40\n",
      "22992/22992 [==============================] - 5s 199us/step - loss: 0.6889 - acc: 0.5636 - val_loss: 0.6859 - val_acc: 0.5677\n",
      "Epoch 2/40\n",
      "22992/22992 [==============================] - 2s 70us/step - loss: 0.6825 - acc: 0.5759 - val_loss: 0.6842 - val_acc: 0.5677\n",
      "Epoch 3/40\n",
      "22992/22992 [==============================] - 2s 73us/step - loss: 0.6812 - acc: 0.5759 - val_loss: 0.6832 - val_acc: 0.5677\n",
      "Epoch 4/40\n",
      "22992/22992 [==============================] - 2s 72us/step - loss: 0.6798 - acc: 0.5759 - val_loss: 0.6810 - val_acc: 0.5677\n",
      "Epoch 5/40\n",
      "22992/22992 [==============================] - 2s 77us/step - loss: 0.6765 - acc: 0.5759 - val_loss: 0.6759 - val_acc: 0.5677\n",
      "Epoch 6/40\n",
      "22992/22992 [==============================] - 3s 112us/step - loss: 0.6692 - acc: 0.5760 - val_loss: 0.6657 - val_acc: 0.5681\n",
      "Epoch 7/40\n",
      "22992/22992 [==============================] - 2s 70us/step - loss: 0.6570 - acc: 0.5792 - val_loss: 0.6519 - val_acc: 0.5740\n",
      "Epoch 8/40\n",
      "22992/22992 [==============================] - 2s 71us/step - loss: 0.6414 - acc: 0.6078 - val_loss: 0.6353 - val_acc: 0.6347\n",
      "Epoch 9/40\n",
      "22992/22992 [==============================] - 2s 72us/step - loss: 0.6240 - acc: 0.6503 - val_loss: 0.6216 - val_acc: 0.6271\n",
      "Epoch 10/40\n",
      "22992/22992 [==============================] - 2s 106us/step - loss: 0.6060 - acc: 0.6749 - val_loss: 0.6019 - val_acc: 0.6736\n",
      "Epoch 11/40\n",
      "22992/22992 [==============================] - 5s 204us/step - loss: 0.5876 - acc: 0.6951 - val_loss: 0.5851 - val_acc: 0.6914\n",
      "Epoch 12/40\n",
      "22992/22992 [==============================] - 9s 399us/step - loss: 0.5678 - acc: 0.7164 - val_loss: 0.5670 - val_acc: 0.7169\n",
      "Epoch 13/40\n",
      "22992/22992 [==============================] - 7s 294us/step - loss: 0.5483 - acc: 0.7363 - val_loss: 0.5515 - val_acc: 0.7214\n",
      "Epoch 14/40\n",
      "22992/22992 [==============================] - 4s 174us/step - loss: 0.5287 - acc: 0.7487 - val_loss: 0.5354 - val_acc: 0.7330\n",
      "Epoch 15/40\n",
      "22992/22992 [==============================] - 5s 199us/step - loss: 0.5094 - acc: 0.7677 - val_loss: 0.5181 - val_acc: 0.7496\n",
      "Epoch 16/40\n",
      "22992/22992 [==============================] - 3s 131us/step - loss: 0.4910 - acc: 0.7798 - val_loss: 0.5010 - val_acc: 0.7638\n",
      "Epoch 17/40\n",
      "22992/22992 [==============================] - 2s 108us/step - loss: 0.4723 - acc: 0.7933 - val_loss: 0.4871 - val_acc: 0.7689\n",
      "Epoch 18/40\n",
      "22992/22992 [==============================] - 2s 77us/step - loss: 0.4544 - acc: 0.8063 - val_loss: 0.4730 - val_acc: 0.7796\n",
      "Epoch 19/40\n",
      "22992/22992 [==============================] - 2s 66us/step - loss: 0.4372 - acc: 0.8174 - val_loss: 0.4585 - val_acc: 0.7931\n",
      "Epoch 20/40\n",
      "22992/22992 [==============================] - 2s 66us/step - loss: 0.4217 - acc: 0.8265 - val_loss: 0.4501 - val_acc: 0.7868\n",
      "Epoch 21/40\n",
      "22992/22992 [==============================] - 1s 65us/step - loss: 0.4065 - acc: 0.8336 - val_loss: 0.4350 - val_acc: 0.8106\n",
      "Epoch 22/40\n",
      "22992/22992 [==============================] - 2s 66us/step - loss: 0.3922 - acc: 0.8432 - val_loss: 0.4251 - val_acc: 0.8115\n",
      "Epoch 23/40\n",
      "22992/22992 [==============================] - 2s 65us/step - loss: 0.3792 - acc: 0.8485 - val_loss: 0.4169 - val_acc: 0.8153\n",
      "Epoch 24/40\n",
      "22992/22992 [==============================] - 1s 64us/step - loss: 0.3670 - acc: 0.8543 - val_loss: 0.4084 - val_acc: 0.8204\n",
      "Epoch 25/40\n",
      "22992/22992 [==============================] - 1s 63us/step - loss: 0.3567 - acc: 0.8601 - val_loss: 0.3997 - val_acc: 0.8287\n",
      "Epoch 26/40\n",
      "22992/22992 [==============================] - 1s 61us/step - loss: 0.3448 - acc: 0.8647 - val_loss: 0.3932 - val_acc: 0.8306\n",
      "Epoch 27/40\n",
      "22992/22992 [==============================] - 1s 61us/step - loss: 0.3351 - acc: 0.8692 - val_loss: 0.3859 - val_acc: 0.8388\n",
      "Epoch 28/40\n",
      "22992/22992 [==============================] - 1s 61us/step - loss: 0.3259 - acc: 0.8736 - val_loss: 0.3811 - val_acc: 0.8381\n",
      "Epoch 29/40\n",
      "22992/22992 [==============================] - 1s 63us/step - loss: 0.3173 - acc: 0.8777 - val_loss: 0.3748 - val_acc: 0.8435\n",
      "Epoch 30/40\n",
      "22992/22992 [==============================] - 1s 61us/step - loss: 0.3092 - acc: 0.8817 - val_loss: 0.3740 - val_acc: 0.8375\n",
      "Epoch 31/40\n",
      "22992/22992 [==============================] - 1s 61us/step - loss: 0.3012 - acc: 0.8857 - val_loss: 0.3655 - val_acc: 0.8467\n",
      "Epoch 32/40\n",
      "22992/22992 [==============================] - 1s 60us/step - loss: 0.2940 - acc: 0.8884 - val_loss: 0.3614 - val_acc: 0.8481\n",
      "Epoch 33/40\n",
      "22992/22992 [==============================] - 1s 60us/step - loss: 0.2881 - acc: 0.8903 - val_loss: 0.3627 - val_acc: 0.8415\n",
      "Epoch 34/40\n",
      "22992/22992 [==============================] - 1s 60us/step - loss: 0.2823 - acc: 0.8913 - val_loss: 0.3543 - val_acc: 0.8501\n",
      "Epoch 35/40\n",
      "22992/22992 [==============================] - 1s 60us/step - loss: 0.2750 - acc: 0.8954 - val_loss: 0.3531 - val_acc: 0.8483\n",
      "Epoch 36/40\n",
      "22992/22992 [==============================] - 1s 60us/step - loss: 0.2688 - acc: 0.8970 - val_loss: 0.3484 - val_acc: 0.8538\n",
      "Epoch 37/40\n",
      "22992/22992 [==============================] - 1s 59us/step - loss: 0.2638 - acc: 0.8977 - val_loss: 0.3468 - val_acc: 0.8522\n",
      "Epoch 38/40\n",
      "22992/22992 [==============================] - 1s 59us/step - loss: 0.2600 - acc: 0.8994 - val_loss: 0.3432 - val_acc: 0.8551\n",
      "Epoch 39/40\n",
      "22992/22992 [==============================] - 1s 60us/step - loss: 0.2533 - acc: 0.9029 - val_loss: 0.3404 - val_acc: 0.8589\n",
      "Epoch 40/40\n",
      "22992/22992 [==============================] - 1s 59us/step - loss: 0.2488 - acc: 0.9047 - val_loss: 0.3382 - val_acc: 0.8603\n"
     ]
    }
   ],
   "source": [
    "#train model \n",
    "train_model = model.fit(part_feat_train, part_lbl_train, epochs=40, batch_size=512, validation_data=(feat_val, lbl_val), verbose=1)"
   ]
  },
  {
   "cell_type": "code",
   "execution_count": 795,
   "metadata": {},
   "outputs": [
    {
     "data": {
      "text/plain": [
       "32992"
      ]
     },
     "execution_count": 795,
     "metadata": {},
     "output_type": "execute_result"
    }
   ],
   "source": [
    "len(feat_train)"
   ]
  },
  {
   "cell_type": "code",
   "execution_count": 817,
   "metadata": {},
   "outputs": [
    {
     "name": "stdout",
     "output_type": "stream",
     "text": [
      "8248/8248 [==============================] - 0s 45us/step\n",
      "LOSS:  0.338\n",
      "ACCURACY:  0.864\n"
     ]
    }
   ],
   "source": [
    "evaluation = model.evaluate(feat_test, lbl_test)\n",
    "print(\"LOSS: \", round(evaluation[0], 3))\n",
    "print(\"ACCURACY: \", round(evaluation[1], 3))"
   ]
  },
  {
   "cell_type": "code",
   "execution_count": 807,
   "metadata": {},
   "outputs": [
    {
     "data": {
      "text/plain": [
       "dict_keys(['val_loss', 'val_acc', 'loss', 'acc'])"
      ]
     },
     "execution_count": 807,
     "metadata": {},
     "output_type": "execute_result"
    }
   ],
   "source": [
    "history = train_model.history\n",
    "history.keys()"
   ]
  },
  {
   "cell_type": "code",
   "execution_count": 810,
   "metadata": {},
   "outputs": [
    {
     "data": {
      "image/png": "[encoded data removed]",
      "text/plain": [
       "<Figure size 432x288 with 1 Axes>"
      ]
     },
     "metadata": {},
     "output_type": "display_data"
    }
   ],
   "source": [
    "accuracy = history['acc']\n",
    "validation_accuracy = history['val_acc']\n",
    "loss = history['val_loss']\n",
    "validation_loss = history['val_loss']\n",
    "epochs = range(1, len(accuracy) + 1)\n",
    "\n",
    "plt.plot(epochs, loss, 'ro', label=\"Training loss\")\n",
    "plt.plot(epochs, validation_loss, 'b', label=\"Validation loss\")\n",
    "plt.title('Training and validation loss')\n",
    "plt.xlabel('Epochs')\n",
    "plt.ylabel('Loss')\n",
    "plt.legend\n",
    "\n",
    "plt.show()"
   ]
  },
  {
   "cell_type": "code",
   "execution_count": 812,
   "metadata": {},
   "outputs": [
    {
     "data": {
      "image/png": "[encoded data removed]",
      "text/plain": [
       "<Figure size 432x288 with 1 Axes>"
      ]
     },
     "metadata": {},
     "output_type": "display_data"
    }
   ],
   "source": [
    "plt.plot(epochs, accuracy, 'ro', label='Training accuracy')\n",
    "plt.plot(epochs, validation_accuracy, 'b', label='Validation accuracy')\n",
    "plt.title('Training and validation accuracy')\n",
    "plt.xlabel('Epochs')\n",
    "plt.ylabel('Accuracy')\n",
    "plt.legend()\n",
    "\n",
    "plt.show()\n",
    "#currently overfitting"
   ]
  },
  {
   "cell_type": "code",
   "execution_count": null,
   "metadata": {},
   "outputs": [],
   "source": []
  }
 ],
 "metadata": {
  "kernelspec": {
   "display_name": "Python 3",
   "language": "python",
   "name": "python3"
  },
  "language_info": {
   "codemirror_mode": {
    "name": "ipython",
    "version": 3
   },
   "file_extension": ".py",
   "mimetype": "text/x-python",
   "name": "python",
   "nbconvert_exporter": "python",
   "pygments_lexer": "ipython3",
   "version": "3.6.5"
  }
 },
 "nbformat": 4,
 "nbformat_minor": 2
}
